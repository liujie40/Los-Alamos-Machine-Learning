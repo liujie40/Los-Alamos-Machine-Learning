{
 "cells": [
  {
   "cell_type": "markdown",
   "metadata": {},
   "source": [
    "<h1><left><font size=\"5\">Forecasting Laboratory Earthquakes Using Seismic Acoustic Time-Series: Continuation (v2)</font>\n",
    "    <h2><left><font size=\"4\">Data Source & Host: Los Alamos National Laboratory</font></left></h2>"
   ]
  },
  {
   "cell_type": "markdown",
   "metadata": {},
   "source": [
    "# <a id='0'>Contents</a>\n",
    "\n",
    "- <a href='#1'>Import Packages</a>    \n",
    "- <a href='#2'>Re: Signal Processing & Feature engineering</a>\n",
    "- <a href='#3'>Re: GBM Model</a>\n",
    "- <a href='#4'>Submission File</a>  "
   ]
  },
  {
   "cell_type": "markdown",
   "metadata": {},
   "source": [
    "# <a id='1'>Import Packages</a>"
   ]
  },
  {
   "cell_type": "code",
   "execution_count": 67,
   "metadata": {},
   "outputs": [],
   "source": [
    "import os \n",
    "import time\n",
    "import csv\n",
    "import warnings\n",
    "import numpy as np\n",
    "from numpy.fft import rfft\n",
    "import pandas as pd\n",
    "from tqdm import tqdm_notebook, tnrange\n",
    "import lightgbm as lgb\n",
    "from joblib import dump, load\n",
    "import dask\n",
    "import dask_searchcv as dcv\n",
    "from scipy import stats\n",
    "from scipy.signal import hann, hilbert, convolve \n",
    "import matplotlib.pyplot as plt\n",
    "from sklearn.metrics import mean_squared_error, mean_absolute_error\n",
    "from sklearn.decomposition import PCA \n",
    "from sklearn.preprocessing import StandardScaler\n",
    "from sklearn.model_selection import learning_curve, GridSearchCV, TimeSeriesSplit\n",
    "from collections import deque, defaultdict\n",
    "from IPython.core.interactiveshell import InteractiveShell\n",
    "\n",
    "# InteractiveShell.ast_node_interactivity = \"all\"\n",
    "warnings.filterwarnings(\"ignore\")\n",
    "pd.options.display.precision = 10\n",
    "%matplotlib inline"
   ]
  },
  {
   "cell_type": "markdown",
   "metadata": {},
   "source": [
    "# <a id='2'>Re: Signal Processing & Feature engineering</a>"
   ]
  },
  {
   "cell_type": "code",
   "execution_count": 2,
   "metadata": {},
   "outputs": [],
   "source": [
    "def get_features(signal):\n",
    "    \n",
    "    def power(sig):\n",
    "        return sum(map(lambda x: x**2, sig))\n",
    "        \n",
    "    features = pd.DataFrame({'power': power(signal),\n",
    "                             'mean': signal.mean(),\n",
    "                             'var': signal.var(),\n",
    "                             'std': signal.std(),\n",
    "                             'kurtosis': stats.kurtosis(signal, fisher=False),\n",
    "                             'max': max(abs(signal))                             \n",
    "                            }, index=[0]).astype('float32')\n",
    "    return features"
   ]
  },
  {
   "cell_type": "code",
   "execution_count": 3,
   "metadata": {
    "scrolled": false
   },
   "outputs": [
    {
     "data": {
      "application/vnd.jupyter.widget-view+json": {
       "model_id": "d4dc99839d0547f1bdc6dfed93be7303",
       "version_major": 2,
       "version_minor": 0
      },
      "text/plain": [
       "HBox(children=(IntProgress(value=0, description='Feature Extraction', max=1257990, style=ProgressStyle(descrip…"
      ]
     },
     "metadata": {},
     "output_type": "display_data"
    },
    {
     "name": "stdout",
     "output_type": "stream",
     "text": [
      "\n"
     ]
    }
   ],
   "source": [
    "def get_max_deque(signal):\n",
    "    signal = abs(signal.values)\n",
    "    max_dq = deque()\n",
    "    max_dq.append(signal[-1])\n",
    "    for i in range(2,len(signal)+1):\n",
    "        if signal[-i] > max_dq[0]:\n",
    "            max_dq.appendleft(signal[-i])\n",
    "        else:\n",
    "            max_dq.appendleft(max_dq[0])\n",
    "    return max_dq\n",
    "\n",
    "\n",
    "def power(sig):\n",
    "    return sum(map(lambda x: x**2, sig))\n",
    "\n",
    "\n",
    "reader = pd.read_csv('train.csv', iterator=True, dtype={'acoustic_data': np.int16, 'time_to_failure': np.float32})\n",
    "window = reader.get_chunk(150_000)\n",
    "signal = window.acoustic_data\n",
    "target = [window.time_to_failure.iloc[-1]]\n",
    "interval = 500\n",
    "m0 = signal.mean()\n",
    "chunks = deque()\n",
    "for i in range((150_000//interval)):\n",
    "    partition = signal[i*interval:(i+1)*interval]\n",
    "    chunks.append({'power_component': power(partition),\n",
    "                   'mean_component':  sum(partition)/150_000\n",
    "                   })\n",
    "\n",
    "training_data = get_features(signal)\n",
    "current = {'power':training_data['power'][0],\n",
    "           'mean': training_data['mean'][0],\n",
    "          }\n",
    "\n",
    "iterations = (629_145_480-150_000)//interval\n",
    "full_max_deque = get_max_deque(signal)\n",
    "for _ in tqdm_notebook(range(iterations), desc='Feature Extraction'):\n",
    "\n",
    "    #pop out oldest interval chunk, get new chunk and add to chunk list\n",
    "    previous_chunk = chunks.popleft()\n",
    "    window = reader.get_chunk(interval)\n",
    "    new_chunk = {'power_component': power(window.acoustic_data),\n",
    "                 'mean_component':  sum(window.acoustic_data)/150_000\n",
    "                }\n",
    "    chunks.append(new_chunk)\n",
    "\n",
    "    # append new target variable\n",
    "    target.append(window.time_to_failure.iloc[-1])\n",
    "\n",
    "    # use oldest and new chunk to compute all current window features except max\n",
    "    current_power = current['power'] - previous_chunk['power_component'] + new_chunk['power_component']\n",
    "    current_mean = current['mean'] - previous_chunk['mean_component'] + new_chunk['mean_component']\n",
    "    signal = signal[interval:].append(window.acoustic_data)\n",
    "    Moment_1 = signal-current_mean\n",
    "    current_var = sum(Moment_1**2)/150_000\n",
    "    current_std = current_var**0.5\n",
    "    current_kurtosis = sum(Moment_1**4)/150_000/current_var**2\n",
    "\n",
    "    # update current power and mean\n",
    "    current['power'] = current_power\n",
    "    current['mean'] = current_mean\n",
    "\n",
    "    # Max function \n",
    "    # get max_deque of new interval data\n",
    "    interval_max_deque = get_max_deque(window.acoustic_data)\n",
    "    \n",
    "    # reassess max values for full deque\n",
    "    if interval_max_deque[0] >= full_max_deque[interval]:\n",
    "        full_max_deque = deque([interval_max_deque[0]]*150_000)\n",
    "    else:\n",
    "        i = -1\n",
    "        while full_max_deque[i] < interval_max_deque[0]:\n",
    "            full_max_deque[i] = interval_max_deque[0]\n",
    "            i -= 1\n",
    "        \n",
    "    # popoff old interval elements and join new interval elements\n",
    "    for i in range(interval):\n",
    "        full_max_deque.popleft()\n",
    "        full_max_deque.append(interval_max_deque[i])\n",
    "\n",
    "    train_row = pd.DataFrame({'power': current_power,\n",
    "                              'mean':  current_mean,\n",
    "                              'var':   current_var,\n",
    "                              'std':   current_std,\n",
    "                              'kurtosis': current_kurtosis,\n",
    "                              'max': full_max_deque[0] }, index = [0]).astype('float32')\n",
    "        \n",
    "    training_data = pd.concat([training_data,train_row], ignore_index=True, axis=0)"
   ]
  },
  {
   "cell_type": "code",
   "execution_count": 4,
   "metadata": {},
   "outputs": [],
   "source": [
    "training_data.to_csv('feature_v2.csv',index=False)\n",
    "pd.Series(target).to_csv('target_v2.csv',index=False)"
   ]
  },
  {
   "cell_type": "code",
   "execution_count": 3,
   "metadata": {},
   "outputs": [],
   "source": [
    "def get_fourier(signal):\n",
    "    trans_signal = (signal-signal.mean())*hann(150_000)\n",
    "    # compute real FFT and take lower frequnecies of interest\n",
    "    coefficients = np.fft.rfft(trans_signal)[1:16668]\n",
    "    return abs(coefficients)"
   ]
  },
  {
   "cell_type": "markdown",
   "metadata": {},
   "source": [
    "# <a id='3'>Re: GBM Model</a>"
   ]
  },
  {
   "cell_type": "code",
   "execution_count": 47,
   "metadata": {},
   "outputs": [],
   "source": [
    "param_grid = [{'learning_rate': [0.03, 0.06, 0.12], \n",
    "              'num_leaves':[20, 40],\n",
    "              'min_data_in_leaf': [2000, 5000, 15_000],\n",
    "              'n_estimators': [100,300,500],\n",
    "              'max_depth':[4, 8]\n",
    "              }, \n",
    "              {'learning_rate': [0.06, 0.1, 0.3], \n",
    "              'num_leaves':[100, 300],\n",
    "              'min_data_in_leaf': [500, 1000],\n",
    "              'n_estimators': [50, 100],\n",
    "              'max_depth':[8, 10]\n",
    "              }] "
   ]
  },
  {
   "cell_type": "code",
   "execution_count": 85,
   "metadata": {},
   "outputs": [],
   "source": [
    "model = GridSearchCV(estimator=lgb.LGBMRegressor(), \n",
    "                     param_grid=param_grid, \n",
    "                     cv=TimeSeriesSplit(n_splits=5), \n",
    "                     scoring='neg_mean_absolute_error',\n",
    "                     n_jobs=-1,\n",
    "                     verbose=10,\n",
    "                     return_train_score=True)"
   ]
  },
  {
   "cell_type": "code",
   "execution_count": 86,
   "metadata": {},
   "outputs": [
    {
     "name": "stdout",
     "output_type": "stream",
     "text": [
      "Fitting 5 folds for each of 156 candidates, totalling 780 fits\n"
     ]
    },
    {
     "name": "stderr",
     "output_type": "stream",
     "text": [
      "[Parallel(n_jobs=-1)]: Using backend LokyBackend with 12 concurrent workers.\n",
      "[Parallel(n_jobs=-1)]: Done   1 tasks      | elapsed:    8.4s\n",
      "[Parallel(n_jobs=-1)]: Done   8 tasks      | elapsed:   22.1s\n",
      "[Parallel(n_jobs=-1)]: Done  17 tasks      | elapsed:   55.4s\n",
      "[Parallel(n_jobs=-1)]: Done  26 tasks      | elapsed:  1.4min\n",
      "[Parallel(n_jobs=-1)]: Done  37 tasks      | elapsed:  1.7min\n",
      "[Parallel(n_jobs=-1)]: Done  48 tasks      | elapsed:  2.3min\n",
      "[Parallel(n_jobs=-1)]: Done  61 tasks      | elapsed:  2.8min\n",
      "[Parallel(n_jobs=-1)]: Done  74 tasks      | elapsed:  3.5min\n",
      "[Parallel(n_jobs=-1)]: Done  89 tasks      | elapsed:  4.2min\n",
      "[Parallel(n_jobs=-1)]: Done 104 tasks      | elapsed:  5.0min\n",
      "[Parallel(n_jobs=-1)]: Done 121 tasks      | elapsed:  6.0min\n",
      "[Parallel(n_jobs=-1)]: Done 138 tasks      | elapsed:  7.3min\n",
      "[Parallel(n_jobs=-1)]: Done 157 tasks      | elapsed:  8.4min\n",
      "[Parallel(n_jobs=-1)]: Done 176 tasks      | elapsed:  9.7min\n",
      "[Parallel(n_jobs=-1)]: Done 197 tasks      | elapsed: 10.9min\n",
      "[Parallel(n_jobs=-1)]: Done 218 tasks      | elapsed: 11.7min\n",
      "[Parallel(n_jobs=-1)]: Done 241 tasks      | elapsed: 12.7min\n",
      "[Parallel(n_jobs=-1)]: Done 264 tasks      | elapsed: 13.8min\n",
      "[Parallel(n_jobs=-1)]: Done 289 tasks      | elapsed: 15.2min\n",
      "[Parallel(n_jobs=-1)]: Done 314 tasks      | elapsed: 16.9min\n",
      "[Parallel(n_jobs=-1)]: Done 341 tasks      | elapsed: 18.6min\n",
      "[Parallel(n_jobs=-1)]: Done 368 tasks      | elapsed: 20.0min\n",
      "[Parallel(n_jobs=-1)]: Done 397 tasks      | elapsed: 21.4min\n",
      "[Parallel(n_jobs=-1)]: Done 426 tasks      | elapsed: 22.6min\n",
      "[Parallel(n_jobs=-1)]: Done 457 tasks      | elapsed: 24.1min\n",
      "[Parallel(n_jobs=-1)]: Done 488 tasks      | elapsed: 26.1min\n",
      "[Parallel(n_jobs=-1)]: Done 521 tasks      | elapsed: 28.3min\n",
      "[Parallel(n_jobs=-1)]: Done 554 tasks      | elapsed: 29.8min\n",
      "[Parallel(n_jobs=-1)]: Done 589 tasks      | elapsed: 30.7min\n",
      "[Parallel(n_jobs=-1)]: Done 624 tasks      | elapsed: 31.5min\n",
      "[Parallel(n_jobs=-1)]: Done 661 tasks      | elapsed: 32.2min\n",
      "[Parallel(n_jobs=-1)]: Done 698 tasks      | elapsed: 33.0min\n",
      "[Parallel(n_jobs=-1)]: Done 737 tasks      | elapsed: 33.7min\n",
      "[Parallel(n_jobs=-1)]: Done 780 out of 780 | elapsed: 34.7min finished\n"
     ]
    },
    {
     "data": {
      "text/plain": [
       "GridSearchCV(cv=TimeSeriesSplit(max_train_size=None, n_splits=5),\n",
       "       error_score='raise-deprecating',\n",
       "       estimator=LGBMRegressor(boosting_type='gbdt', class_weight=None, colsample_bytree=1.0,\n",
       "       importance_type='split', learning_rate=0.1, max_depth=-1,\n",
       "       min_child_samples=20, min_child_weight=0.001, min_split_gain=0.0,\n",
       "       n_estimators=100, n_jobs=-1, num_leaves=31, objective=None,\n",
       "       random_state=None, reg_alpha=0.0, reg_lambda=0.0, silent=True,\n",
       "       subsample=1.0, subsample_for_bin=200000, subsample_freq=0),\n",
       "       fit_params=None, iid='warn', n_jobs=-1,\n",
       "       param_grid=[{'learning_rate': [0.03, 0.06, 0.12], 'num_leaves': [20, 40], 'min_data_in_leaf': [2000, 5000, 15000], 'n_estimators': [100, 300, 500], 'max_depth': [4, 8]}, {'learning_rate': [0.06, 0.1, 0.3], 'num_leaves': [100, 300], 'min_data_in_leaf': [500, 1000], 'n_estimators': [50, 100], 'max_depth': [8, 10]}],\n",
       "       pre_dispatch='2*n_jobs', refit=True, return_train_score=True,\n",
       "       scoring='neg_mean_absolute_error', verbose=10)"
      ]
     },
     "execution_count": 86,
     "metadata": {},
     "output_type": "execute_result"
    }
   ],
   "source": [
    "model.fit(training_data,target)"
   ]
  },
  {
   "cell_type": "code",
   "execution_count": 51,
   "metadata": {},
   "outputs": [],
   "source": [
    "def plot_model_train_cv_error(model):\n",
    "    fig = plt.figure(figsize=(16,6))\n",
    "    plt.title('Mean Training & CV Error')\n",
    "    plt.xlabel('Model Number')\n",
    "    plt.ylabel('ylabelative Mean Absolute Error')\n",
    "    plt.plot(model.cv_results_['mean_train_score'], color='g', label='Training')\n",
    "    plt.legend(loc=(0.75, 0.90))\n",
    "    plt.plot(model.cv_results_['mean_test_score'], color='r', label='CV')\n",
    "    plt.legend(loc=(0.75, 0.85))"
   ]
  },
  {
   "cell_type": "code",
   "execution_count": 106,
   "metadata": {},
   "outputs": [
    {
     "data": {
      "image/png": "[encoded data removed]",
      "text/plain": [
       "<Figure size 1152x432 with 1 Axes>"
      ]
     },
     "metadata": {
      "needs_background": "light"
     },
     "output_type": "display_data"
    }
   ],
   "source": [
    "plot_model_train_cv_error(model)"
   ]
  },
  {
   "cell_type": "code",
   "execution_count": 97,
   "metadata": {
    "scrolled": true
   },
   "outputs": [
    {
     "data": {
      "text/plain": [
       "{'learning_rate': 0.03,\n",
       " 'max_depth': 8,\n",
       " 'min_data_in_leaf': 15000,\n",
       " 'n_estimators': 100,\n",
       " 'num_leaves': 20}"
      ]
     },
     "execution_count": 97,
     "metadata": {},
     "output_type": "execute_result"
    }
   ],
   "source": [
    "model.best_params_"
   ]
  },
  {
   "cell_type": "code",
   "execution_count": 62,
   "metadata": {},
   "outputs": [],
   "source": [
    "def plot_feature_importance(model, importance='gain'):\n",
    "    M1 = lgb.LGBMRegressor(**model.best_params_, importance_type=importance)\n",
    "    M1.fit(training_data, target)\n",
    "    ranked_features_ndx = sorted(range(len(M1.feature_importances_)), key=lambda x: M1.feature_importances_[x])\n",
    "\n",
    "\n",
    "    objects = [training_data.keys()[i] for i in ranked_features_ndx]\n",
    "    y_pos = np.arange(len(objects))\n",
    "    importance = [M1.feature_importances_[i] for i in ranked_features_ndx]\n",
    "\n",
    "    fig = plt.figure(figsize=(16,4))\n",
    "    plt.barh(y_pos, importance, align='center', alpha=0.5)\n",
    "    plt.yticks(y_pos, objects)\n",
    "    plt.xlabel('Gain')\n",
    "    plt.title('Feature Importance')"
   ]
  },
  {
   "cell_type": "code",
   "execution_count": 107,
   "metadata": {},
   "outputs": [
    {
     "data": {
      "image/png": "[encoded data removed]",
      "text/plain": [
       "<Figure size 1152x288 with 1 Axes>"
      ]
     },
     "metadata": {
      "needs_background": "light"
     },
     "output_type": "display_data"
    }
   ],
   "source": [
    "plot_feature_importance(model)"
   ]
  },
  {
   "cell_type": "code",
   "execution_count": 108,
   "metadata": {},
   "outputs": [
    {
     "data": {
      "image/png": "[encoded data removed]",
      "text/plain": [
       "<Figure size 1152x288 with 1 Axes>"
      ]
     },
     "metadata": {
      "needs_background": "light"
     },
     "output_type": "display_data"
    }
   ],
   "source": [
    "plot_feature_importance(model,importance='split')"
   ]
  },
  {
   "cell_type": "code",
   "execution_count": 109,
   "metadata": {},
   "outputs": [
    {
     "data": {
      "application/vnd.jupyter.widget-view+json": {
       "model_id": "f6319b583bda4f5aa02046b8fb67cd7f",
       "version_major": 2,
       "version_minor": 0
      },
      "text/plain": [
       "HBox(children=(IntProgress(value=0, description='Creating Submission', max=2624, style=ProgressStyle(descripti…"
      ]
     },
     "metadata": {},
     "output_type": "display_data"
    },
    {
     "name": "stdout",
     "output_type": "stream",
     "text": [
      "\n"
     ]
    }
   ],
   "source": [
    "path = './test'\n",
    "with open('submission2.csv', 'a', newline='') as f:\n",
    "    wr = csv.writer(f)\n",
    "    wr.writerow(['seg_id','time_to_failure'])\n",
    "    \n",
    "    for seg in tqdm_notebook(os.listdir(path), desc='Creating Submission'):\n",
    "        data = pd.read_csv(path+'/'+seg).acoustic_data\n",
    "        features = get_features(data)\n",
    "        prediction = model.predict(features)\n",
    "        wr.writerow([seg.split('.')[0] , prediction[0]])"
   ]
  }
 ],
 "metadata": {
  "kernelspec": {
   "display_name": "Python 3",
   "language": "python",
   "name": "python3"
  },
  "language_info": {
   "codemirror_mode": {
    "name": "ipython",
    "version": 3
   },
   "file_extension": ".py",
   "mimetype": "text/x-python",
   "name": "python",
   "nbconvert_exporter": "python",
   "pygments_lexer": "ipython3",
   "version": "3.6.8"
  },
  "widgets": {
   "application/vnd.jupyter.widget-state+json": {
    "state": {
     "055a64e763f14244b80ac2449972deaa": {
      "model_module": "@jupyter-widgets/controls",
      "model_module_version": "1.4.0",
      "model_name": "DescriptionStyleModel",
      "state": {
       "description_width": ""
      }
     },
     "1e3708d67bdc4b48acee0c9c10afe595": {
      "model_module": "@jupyter-widgets/controls",
      "model_module_version": "1.4.0",
      "model_name": "IntProgressModel",
      "state": {
       "bar_style": "success",
       "description": "Creating Submission",
       "layout": "IPY_MODEL_f8df4ab36af744a593a6239786cc3f88",
       "max": 2624,
       "style": "IPY_MODEL_69c541209a2c43e5bcc255d0599110a9",
       "value": 2624
      }
     },
     "27f637772e314fa1bbf4da7d804b3012": {
      "model_module": "@jupyter-widgets/controls",
      "model_module_version": "1.4.0",
      "model_name": "HBoxModel",
      "state": {
       "children": [
        "IPY_MODEL_c1dd2b7277ec430aae883e40c03f2944",
        "IPY_MODEL_7c49fb9d370a4fe18f1a3f7bd495a7d6"
       ],
       "layout": "IPY_MODEL_b13ccf60e6ea44029c0bd9b3c66e18c4"
      }
     },
     "295872499e6f488c9e457b61e6c9b3cb": {
      "model_module": "@jupyter-widgets/base",
      "model_module_version": "1.1.0",
      "model_name": "LayoutModel",
      "state": {}
     },
     "32ed6ba9170048e0806643c6a38dadb6": {
      "model_module": "@jupyter-widgets/controls",
      "model_module_version": "1.4.0",
      "model_name": "IntProgressModel",
      "state": {
       "bar_style": "success",
       "description": "Feature Extraction",
       "layout": "IPY_MODEL_5e6a0cc671d348e89e5cc3a82a7b9363",
       "max": 1257990,
       "style": "IPY_MODEL_ea267ac5f541407d92bb7205c4e52a1a",
       "value": 1257990
      }
     },
     "3bd0578321f84a51b1c64d89b8d835e3": {
      "model_module": "@jupyter-widgets/controls",
      "model_module_version": "1.4.0",
      "model_name": "HTMLModel",
      "state": {
       "layout": "IPY_MODEL_5333a66d1d1b4336bf5cb587f390612d",
       "style": "IPY_MODEL_f181c824aee8437db21dc8bd6717b22e",
       "value": "100% 2624/2624 [06:26&lt;00:00,  6.41it/s]"
      }
     },
     "4ae1fe876ef348fcafbc4f2a02ca4d70": {
      "model_module": "@jupyter-widgets/controls",
      "model_module_version": "1.4.0",
      "model_name": "ProgressStyleModel",
      "state": {
       "description_width": "initial"
      }
     },
     "5333a66d1d1b4336bf5cb587f390612d": {
      "model_module": "@jupyter-widgets/base",
      "model_module_version": "1.1.0",
      "model_name": "LayoutModel",
      "state": {}
     },
     "5e6a0cc671d348e89e5cc3a82a7b9363": {
      "model_module": "@jupyter-widgets/base",
      "model_module_version": "1.1.0",
      "model_name": "LayoutModel",
      "state": {}
     },
     "69c541209a2c43e5bcc255d0599110a9": {
      "model_module": "@jupyter-widgets/controls",
      "model_module_version": "1.4.0",
      "model_name": "ProgressStyleModel",
      "state": {
       "description_width": "initial"
      }
     },
     "7c49fb9d370a4fe18f1a3f7bd495a7d6": {
      "model_module": "@jupyter-widgets/controls",
      "model_module_version": "1.4.0",
      "model_name": "HTMLModel",
      "state": {
       "layout": "IPY_MODEL_295872499e6f488c9e457b61e6c9b3cb",
       "style": "IPY_MODEL_c2cd695569b0491590b6ea304e12ec70",
       "value": "100% 2624/2624 [06:48&lt;00:00,  6.52it/s]"
      }
     },
     "ae1dcb1173294af1be2bfcca58a49cc4": {
      "model_module": "@jupyter-widgets/controls",
      "model_module_version": "1.4.0",
      "model_name": "HTMLModel",
      "state": {
       "layout": "IPY_MODEL_f1e94314e1af408482b10007074b5baf",
       "style": "IPY_MODEL_055a64e763f14244b80ac2449972deaa",
       "value": "100% 1257990/1257990 [14:53:52&lt;00:00, 20.69it/s]"
      }
     },
     "b13ccf60e6ea44029c0bd9b3c66e18c4": {
      "model_module": "@jupyter-widgets/base",
      "model_module_version": "1.1.0",
      "model_name": "LayoutModel",
      "state": {}
     },
     "c1dd2b7277ec430aae883e40c03f2944": {
      "model_module": "@jupyter-widgets/controls",
      "model_module_version": "1.4.0",
      "model_name": "IntProgressModel",
      "state": {
       "bar_style": "success",
       "description": "Creating Submission",
       "layout": "IPY_MODEL_fe5ff18b4266466c957acead45d66dc6",
       "max": 2624,
       "style": "IPY_MODEL_4ae1fe876ef348fcafbc4f2a02ca4d70",
       "value": 2624
      }
     },
     "c243db91939440b883a5f65ef09f6869": {
      "model_module": "@jupyter-widgets/base",
      "model_module_version": "1.1.0",
      "model_name": "LayoutModel",
      "state": {}
     },
     "c2cd695569b0491590b6ea304e12ec70": {
      "model_module": "@jupyter-widgets/controls",
      "model_module_version": "1.4.0",
      "model_name": "DescriptionStyleModel",
      "state": {
       "description_width": ""
      }
     },
     "d4dc99839d0547f1bdc6dfed93be7303": {
      "model_module": "@jupyter-widgets/controls",
      "model_module_version": "1.4.0",
      "model_name": "HBoxModel",
      "state": {
       "children": [
        "IPY_MODEL_32ed6ba9170048e0806643c6a38dadb6",
        "IPY_MODEL_ae1dcb1173294af1be2bfcca58a49cc4"
       ],
       "layout": "IPY_MODEL_c243db91939440b883a5f65ef09f6869"
      }
     },
     "e341f017cdc149f2be1e70036aa8e12f": {
      "model_module": "@jupyter-widgets/base",
      "model_module_version": "1.1.0",
      "model_name": "LayoutModel",
      "state": {}
     },
     "ea267ac5f541407d92bb7205c4e52a1a": {
      "model_module": "@jupyter-widgets/controls",
      "model_module_version": "1.4.0",
      "model_name": "ProgressStyleModel",
      "state": {
       "description_width": "initial"
      }
     },
     "f181c824aee8437db21dc8bd6717b22e": {
      "model_module": "@jupyter-widgets/controls",
      "model_module_version": "1.4.0",
      "model_name": "DescriptionStyleModel",
      "state": {
       "description_width": ""
      }
     },
     "f1e94314e1af408482b10007074b5baf": {
      "model_module": "@jupyter-widgets/base",
      "model_module_version": "1.1.0",
      "model_name": "LayoutModel",
      "state": {}
     },
     "f6319b583bda4f5aa02046b8fb67cd7f": {
      "model_module": "@jupyter-widgets/controls",
      "model_module_version": "1.4.0",
      "model_name": "HBoxModel",
      "state": {
       "children": [
        "IPY_MODEL_1e3708d67bdc4b48acee0c9c10afe595",
        "IPY_MODEL_3bd0578321f84a51b1c64d89b8d835e3"
       ],
       "layout": "IPY_MODEL_e341f017cdc149f2be1e70036aa8e12f"
      }
     },
     "f8df4ab36af744a593a6239786cc3f88": {
      "model_module": "@jupyter-widgets/base",
      "model_module_version": "1.1.0",
      "model_name": "LayoutModel",
      "state": {}
     },
     "fe5ff18b4266466c957acead45d66dc6": {
      "model_module": "@jupyter-widgets/base",
      "model_module_version": "1.1.0",
      "model_name": "LayoutModel",
      "state": {}
     }
    },
    "version_major": 2,
    "version_minor": 0
   }
  }
 },
 "nbformat": 4,
 "nbformat_minor": 2
}
